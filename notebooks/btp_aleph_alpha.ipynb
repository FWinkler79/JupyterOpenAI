{
 "cells": [
  {
   "cell_type": "code",
   "execution_count": null,
   "metadata": {},
   "outputs": [],
   "source": [
    "from aleph_alpha_client import CompletionRequest, Prompt\n",
    "from llm_commons.btp_llm.aleph_alpha import BTPClient\n",
    "\n",
    "client = BTPClient()\n",
    "\n",
    "request = CompletionRequest(\n",
    "    prompt=Prompt.from_text(\"Provide a short description of AI:\"),\n",
    "    maximum_tokens=64,\n",
    ")\n",
    "response = client.complete(request)\n",
    "\n",
    "print(response.completions[0].completion)"
   ]
  },
  {
   "cell_type": "code",
   "execution_count": null,
   "metadata": {},
   "outputs": [],
   "source": [
    "from langchain import PromptTemplate, LLMChain\n",
    "from llm_commons.langchain.btp_llm import BTPAlephAlpha\n",
    "\n",
    "llm = BTPAlephAlpha()# can be used as usual with langchain\n",
    "\n",
    "\n",
    "template = \"\"\"Question: {question}\n",
    "\n",
    "Answer: Let's think step by step.\"\"\"\n",
    "prompt = PromptTemplate(template=template, input_variables=[\"question\"])\n",
    "llm_chain = LLMChain(prompt=prompt, llm=llm, verbose=True)\n",
    "\n",
    "question = \"What NFL team won the Super Bowl in the year Justin Beiber was born?\"\n",
    "\n",
    "print(llm_chain.predict(question=question))\n"
   ]
  }
 ],
 "metadata": {
  "kernelspec": {
   "display_name": "Python 3 (ipykernel)",
   "language": "python",
   "name": "python3"
  },
  "language_info": {
   "codemirror_mode": {
    "name": "ipython",
    "version": 3
   },
   "file_extension": ".py",
   "mimetype": "text/x-python",
   "name": "python",
   "nbconvert_exporter": "python",
   "pygments_lexer": "ipython3",
   "version": "3.10.10"
  },
  "vscode": {
   "interpreter": {
    "hash": "454f8b4715d86089b1826902c91e6a85397dec36484f2b71162165d72ee11ab8"
   }
  }
 },
 "nbformat": 4,
 "nbformat_minor": 2
}